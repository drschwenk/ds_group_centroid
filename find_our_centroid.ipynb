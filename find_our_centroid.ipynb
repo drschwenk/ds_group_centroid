{
 "cells": [
  {
   "cell_type": "code",
   "execution_count": 1,
   "metadata": {
    "collapsed": true,
    "run_control": {
     "frozen": false,
     "read_only": false
    }
   },
   "outputs": [],
   "source": [
    "import numpy as np\n",
    "import pandas as pd\n",
    "import gmaps\n",
    "from keysTkingdom.g_api import gapi_key\n",
    "\n",
    "gmaps.configure(api_key=gapi_key)"
   ]
  },
  {
   "cell_type": "code",
   "execution_count": 2,
   "metadata": {
    "collapsed": true,
    "run_control": {
     "frozen": false,
     "read_only": false
    }
   },
   "outputs": [],
   "source": [
    "def convert_to_cartesian(lat, lon):\n",
    "    lat = lat * np.pi / 180\n",
    "    lon = lon * np.pi /180\n",
    "    x = np.cos(lat) * np.cos(lon)\n",
    "    y = np.cos(lat) * np.sin(lon)\n",
    "    z = np.sin(lat)\n",
    "    return x, y, z\n",
    "\n",
    "def convert_to_lat_lon(x, y, z):\n",
    "    lon = np.arctan2(y, x) * 180 / np.pi\n",
    "    r = np.sqrt(x **2 + y ** 2)\n",
    "    lat = np.arctan2(z, r) * 180/ np.pi\n",
    "    return lat, lon"
   ]
  },
  {
   "cell_type": "code",
   "execution_count": 3,
   "metadata": {
    "collapsed": true,
    "run_control": {
     "frozen": false,
     "read_only": false
    }
   },
   "outputs": [],
   "source": [
    "group_coords = pd.read_csv('./group_coords.csv')"
   ]
  },
  {
   "cell_type": "code",
   "execution_count": 4,
   "metadata": {
    "collapsed": false,
    "run_control": {
     "frozen": false,
     "read_only": false
    }
   },
   "outputs": [],
   "source": [
    "group_coords['Weekday'] = group_coords[[col for col in group_coords.columns if 'Weekday' in col]].apply(lambda x: convert_to_cartesian(*x), axis=1)\n",
    "group_coords['Weekend'] = group_coords[[col for col in group_coords.columns if 'Weekend' in col]].apply(lambda x: convert_to_cartesian(*x), axis=1)"
   ]
  },
  {
   "cell_type": "code",
   "execution_count": 5,
   "metadata": {
    "collapsed": false,
    "run_control": {
     "frozen": false,
     "read_only": false
    }
   },
   "outputs": [
    {
     "name": "stdout",
     "output_type": "stream",
     "text": [
      "(47.635172536202646, -122.28242800060502) (47.635898951803775, -122.33695972606144)\n"
     ]
    }
   ],
   "source": [
    "weekday_centroid = tuple(map(np.mean, zip(*group_coords['Weekday'])))\n",
    "weekend_centroid = tuple(map(np.mean, zip(*group_coords['Weekend'])))\n",
    "weekday_centroid_coords = convert_to_lat_lon(*weekday_centroid)\n",
    "weekend_centroid_coords = convert_to_lat_lon(*weekend_centroid)\n",
    "\n",
    "print(weekday_centroid_coords, weekend_centroid_coords)"
   ]
  },
  {
   "cell_type": "code",
   "execution_count": 6,
   "metadata": {
    "collapsed": false,
    "run_control": {
     "frozen": false,
     "read_only": false
    }
   },
   "outputs": [],
   "source": [
    "m = gmaps.Map()\n",
    "marker = gmaps.marker_layer([weekday_centroid_coords, weekend_centroid_coords])\n",
    "m.add_layer(marker)\n",
    "m"
   ]
  },
  {
   "cell_type": "code",
   "execution_count": null,
   "metadata": {
    "collapsed": true,
    "run_control": {
     "frozen": false,
     "read_only": false
    }
   },
   "outputs": [],
   "source": []
  }
 ],
 "metadata": {
  "kernelspec": {
   "display_name": "Python 3",
   "language": "python",
   "name": "python3"
  },
  "language_info": {
   "codemirror_mode": {
    "name": "ipython",
    "version": 3
   },
   "file_extension": ".py",
   "mimetype": "text/x-python",
   "name": "python",
   "nbconvert_exporter": "python",
   "pygments_lexer": "ipython3",
   "version": "3.6.0"
  },
  "widgets": {
   "state": {
    "bf7eacb87a28495eaae0dd32ff6367c2": {
     "views": [
      {
       "cell_index": 5
      }
     ]
    }
   },
   "version": "1.2.0"
  }
 },
 "nbformat": 4,
 "nbformat_minor": 2
}
